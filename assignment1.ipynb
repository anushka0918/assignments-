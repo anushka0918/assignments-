{
 "cells": [
  {
   "cell_type": "code",
   "execution_count": 4,
   "id": "bc024071",
   "metadata": {},
   "outputs": [
    {
     "name": "stdout",
     "output_type": "stream",
     "text": [
      "<class 'str'>\n",
      "<class 'list'>\n",
      "<class 'float'>\n",
      "<class 'tuple'>\n"
     ]
    }
   ],
   "source": [
    "a= \"apple\"\n",
    "b= [\"mango\",2,\"key\"]\n",
    "c=0.34\n",
    "d=(\"akka\",2)\n",
    "print(type(a))\n",
    "print(type(b))\n",
    "print(type(c))\n",
    "print(type(d))"
   ]
  },
  {
   "cell_type": "code",
   "execution_count": 11,
   "id": "b0bbea97",
   "metadata": {},
   "outputs": [
    {
     "name": "stdout",
     "output_type": "stream",
     "text": [
      "<class 'str'> <class 'str'> <class 'list'> <class 'float'>\n"
     ]
    }
   ],
   "source": [
    "var1 = ''\n",
    "var2 = '[ DS , ML , Python]'\n",
    "var3 = [ 'DS' , 'ML' , 'Python' ]\n",
    "var4 = 1.\n",
    "print(type(var1),type(var2),type(var3),type(var4))"
   ]
  },
  {
   "cell_type": "code",
   "execution_count": 13,
   "id": "b5881bba",
   "metadata": {},
   "outputs": [
    {
     "name": "stdout",
     "output_type": "stream",
     "text": [
      "enter number 1:5\n",
      "enter number 28\n",
      "0.625\n",
      "5\n",
      "0\n",
      "390625\n"
     ]
    }
   ],
   "source": [
    "a= int(input(\"enter number 1:\"))\n",
    "b= int(input(\"enter number 2\"))\n",
    "print(a/b)\n",
    "print(a % b)\n",
    "print( a//b)\n",
    "print (a**b)"
   ]
  },
  {
   "cell_type": "code",
   "execution_count": 23,
   "id": "561e2c2b",
   "metadata": {},
   "outputs": [
    {
     "name": "stdout",
     "output_type": "stream",
     "text": [
      "1\n",
      "<class 'int'>\n",
      "mango\n",
      "<class 'str'>\n",
      "9.3\n",
      "<class 'float'>\n",
      "apple\n",
      "<class 'str'>\n",
      "True\n",
      "<class 'bool'>\n",
      "6\n",
      "<class 'int'>\n",
      "80.67\n",
      "<class 'float'>\n",
      "False\n",
      "<class 'bool'>\n",
      "10\n",
      "<class 'int'>\n"
     ]
    }
   ],
   "source": [
    "list1=[1,\"mango\",9.3,\"apple\",True,6,80.67,False,10]\n",
    "for i in list1:\n",
    "    print(i)\n",
    "    print(type(i))\n"
   ]
  },
  {
   "cell_type": "code",
   "execution_count": 37,
   "id": "f7080fa0",
   "metadata": {},
   "outputs": [
    {
     "name": "stdout",
     "output_type": "stream",
     "text": [
      "enter number 1-48\n",
      "enter number 2-2\n",
      "a is divisible by b for 1 times\n",
      "a is divisible by b for 2 times\n",
      "a is divisible by b for 3 times\n",
      "a is divisible by b for 4 times\n"
     ]
    }
   ],
   "source": [
    "a= int(input(\"enter number 1-\"))\n",
    "b= int(input(\"enter number 2-\"))\n",
    "count=0\n",
    "while a%b==0:\n",
    "    a=a//b\n",
    "    count+=1\n",
    "    print(f\"a is divisible by b for {count} times\")"
   ]
  },
  {
   "cell_type": "code",
   "execution_count": 33,
   "id": "7aede9b8",
   "metadata": {},
   "outputs": [
    {
     "name": "stdout",
     "output_type": "stream",
     "text": [
      "divisible 45\n",
      "not divisible 25\n",
      "divisible 18\n",
      "not divisible 67\n",
      "not divisible 34\n",
      "divisible 12\n",
      "divisible 90\n",
      "divisible 57\n",
      "not divisible 86\n",
      "not divisible 64\n",
      "divisible 24\n",
      "divisible 48\n"
     ]
    }
   ],
   "source": [
    "list3=[45,25,18,67,34,12,90,57,86,64,24,48]\n",
    "for i in list3:\n",
    "    if i%3==0:\n",
    "        print(\"divisible\",i)\n",
    "    else:\n",
    "        print(\"not divisible\",i)\n",
    "     "
   ]
  },
  {
   "cell_type": "code",
   "execution_count": 30,
   "id": "4825ac73",
   "metadata": {},
   "outputs": [
    {
     "name": "stdout",
     "output_type": "stream",
     "text": [
      "['king', 2.4, 89, 'tiger']\n",
      "['queen', 2.4, 89, 'tiger']\n"
     ]
    }
   ],
   "source": [
    "list2=[\"king\",2.4,89,\"tiger\"]\n",
    "print(list2)\n",
    "list2[0]=\"queen\"\n",
    "print(list2)\n",
    "#hence mutable because the values can be changed inside a list "
   ]
  },
  {
   "cell_type": "code",
   "execution_count": 31,
   "id": "3bdaefd0",
   "metadata": {},
   "outputs": [
    {
     "name": "stdout",
     "output_type": "stream",
     "text": [
      "('king', 2.4, 89, 'tiger')\n"
     ]
    },
    {
     "ename": "TypeError",
     "evalue": "'tuple' object does not support item assignment",
     "output_type": "error",
     "traceback": [
      "\u001b[1;31m---------------------------------------------------------------------------\u001b[0m",
      "\u001b[1;31mTypeError\u001b[0m                                 Traceback (most recent call last)",
      "Cell \u001b[1;32mIn[31], line 3\u001b[0m\n\u001b[0;32m      1\u001b[0m tup\u001b[38;5;241m=\u001b[39m(\u001b[38;5;124m\"\u001b[39m\u001b[38;5;124mking\u001b[39m\u001b[38;5;124m\"\u001b[39m,\u001b[38;5;241m2.4\u001b[39m,\u001b[38;5;241m89\u001b[39m,\u001b[38;5;124m\"\u001b[39m\u001b[38;5;124mtiger\u001b[39m\u001b[38;5;124m\"\u001b[39m)\n\u001b[0;32m      2\u001b[0m \u001b[38;5;28mprint\u001b[39m(tup)\n\u001b[1;32m----> 3\u001b[0m tup[\u001b[38;5;241m0\u001b[39m]\u001b[38;5;241m=\u001b[39m\u001b[38;5;124m\"\u001b[39m\u001b[38;5;124mqueen\u001b[39m\u001b[38;5;124m\"\u001b[39m\n\u001b[0;32m      4\u001b[0m \u001b[38;5;28mprint\u001b[39m(tup)\n",
      "\u001b[1;31mTypeError\u001b[0m: 'tuple' object does not support item assignment"
     ]
    }
   ],
   "source": [
    "tup=(\"king\",2.4,89,\"tiger\")\n",
    "print(tup)\n",
    "tup[0]=\"queen\"\n",
    "print(tup)\n",
    "#hence its immutable we cant change values inside a tuple"
   ]
  }
 ],
 "metadata": {
  "kernelspec": {
   "display_name": "Python 3 (ipykernel)",
   "language": "python",
   "name": "python3"
  },
  "language_info": {
   "codemirror_mode": {
    "name": "ipython",
    "version": 3
   },
   "file_extension": ".py",
   "mimetype": "text/x-python",
   "name": "python",
   "nbconvert_exporter": "python",
   "pygments_lexer": "ipython3",
   "version": "3.10.9"
  }
 },
 "nbformat": 4,
 "nbformat_minor": 5
}
